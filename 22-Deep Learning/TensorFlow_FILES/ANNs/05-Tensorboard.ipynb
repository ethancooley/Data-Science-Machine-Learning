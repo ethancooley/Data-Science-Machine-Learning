{
 "cells": [
  {
   "cell_type": "markdown",
   "metadata": {},
   "source": [
    "<a href=\"https://www.pieriandata.com\"><img src=\"../Pierian_Data_Logo.PNG\"></a>\n",
    "<strong><center>Copyright by Pierian Data Inc.</center></strong> \n",
    "<strong><center>Created by Jose Marcial Portilla.</center></strong>"
   ]
  },
  {
   "cell_type": "markdown",
   "metadata": {},
   "source": [
    "# Tensorboard\n",
    "\n",
    "---\n",
    "---\n",
    "\n",
    "**NOTE: You must watch the corresponding video to understand this lecture. This notebook can't serve as a full guide. Please watch the video BEFORE posting questions to the QA forum.**\n",
    "\n",
    "---\n",
    "---\n",
    "\n",
    "Let's explore the built in data visualization capabilities that come with Tensorboard.\n",
    "\n",
    "Full official tutorial available here: https://www.tensorflow.org/tensorboard/get_started\n",
    "\n",
    "## Data"
   ]
  },
  {
   "cell_type": "code",
   "execution_count": 1,
   "metadata": {},
   "outputs": [],
   "source": [
    "import pandas as pd\n",
    "import numpy as np"
   ]
  },
  {
   "cell_type": "code",
   "execution_count": 2,
   "metadata": {},
   "outputs": [],
   "source": [
    "df = pd.read_csv('../DATA/cancer_classification.csv')"
   ]
  },
  {
   "cell_type": "markdown",
   "metadata": {},
   "source": [
    "### Train Test Split"
   ]
  },
  {
   "cell_type": "code",
   "execution_count": 3,
   "metadata": {},
   "outputs": [],
   "source": [
    "X = df.drop('benign_0__mal_1',axis=1).values\n",
    "y = df['benign_0__mal_1'].values"
   ]
  },
  {
   "cell_type": "code",
   "execution_count": 4,
   "metadata": {},
   "outputs": [],
   "source": [
    "from sklearn.model_selection import train_test_split"
   ]
  },
  {
   "cell_type": "code",
   "execution_count": 5,
   "metadata": {},
   "outputs": [],
   "source": [
    "X_train, X_test, y_train, y_test = train_test_split(X,y,test_size=0.25,random_state=101)"
   ]
  },
  {
   "cell_type": "markdown",
   "metadata": {},
   "source": [
    "\n",
    "### Scaling Data"
   ]
  },
  {
   "cell_type": "code",
   "execution_count": 6,
   "metadata": {},
   "outputs": [],
   "source": [
    "from sklearn.preprocessing import MinMaxScaler"
   ]
  },
  {
   "cell_type": "code",
   "execution_count": 7,
   "metadata": {},
   "outputs": [],
   "source": [
    "scaler = MinMaxScaler()"
   ]
  },
  {
   "cell_type": "code",
   "execution_count": 8,
   "metadata": {},
   "outputs": [
    {
     "data": {
      "text/plain": [
       "MinMaxScaler()"
      ]
     },
     "execution_count": 8,
     "metadata": {},
     "output_type": "execute_result"
    }
   ],
   "source": [
    "scaler.fit(X_train)"
   ]
  },
  {
   "cell_type": "code",
   "execution_count": 9,
   "metadata": {},
   "outputs": [],
   "source": [
    "X_train = scaler.transform(X_train)\n",
    "X_test = scaler.transform(X_test)"
   ]
  },
  {
   "cell_type": "markdown",
   "metadata": {},
   "source": [
    "## Creating the Model"
   ]
  },
  {
   "cell_type": "code",
   "execution_count": 10,
   "metadata": {},
   "outputs": [],
   "source": [
    "import tensorflow as tf\n",
    "from tensorflow.keras.models import Sequential\n",
    "from tensorflow.keras.layers import Dense, Activation,Dropout"
   ]
  },
  {
   "cell_type": "code",
   "execution_count": 11,
   "metadata": {},
   "outputs": [],
   "source": [
    "from tensorflow.keras.callbacks import EarlyStopping,TensorBoard"
   ]
  },
  {
   "cell_type": "code",
   "execution_count": 12,
   "metadata": {},
   "outputs": [],
   "source": [
    "early_stop = EarlyStopping(monitor='val_loss', mode='min', verbose=1, patience=25)"
   ]
  },
  {
   "cell_type": "code",
   "execution_count": 13,
   "metadata": {},
   "outputs": [
    {
     "data": {
      "text/plain": [
       "'/Users/ethancooley/Programming/Refactored_Py_DS_ML_Bootcamp-master/22-Deep Learning/TensorFlow_FILES/ANNs'"
      ]
     },
     "execution_count": 13,
     "metadata": {},
     "output_type": "execute_result"
    }
   ],
   "source": [
    "pwd"
   ]
  },
  {
   "cell_type": "markdown",
   "metadata": {},
   "source": [
    "## Creating the Tensorboard Callback\n",
    "\n",
    "TensorBoard is a visualization tool provided with TensorFlow.\n",
    "\n",
    "This callback logs events for TensorBoard, including:\n",
    "* Metrics summary plots\n",
    "* Training graph visualization\n",
    "* Activation histograms\n",
    "* Sampled profiling\n",
    "\n",
    "If you have installed TensorFlow with pip, you should be able\n",
    "to launch TensorBoard from the command line:\n",
    "\n",
    "```sh\n",
    "tensorboard --logdir=path_to_your_logs\n",
    "```\n",
    "\n",
    "You can find more information about TensorBoard\n",
    "[here](https://www.tensorflow.org/tensorboard/).\n",
    "\n",
    "    Arguments:\n",
    "        log_dir: the path of the directory where to save the log files to be\n",
    "          parsed by TensorBoard.\n",
    "        histogram_freq: frequency (in epochs) at which to compute activation and\n",
    "          weight histograms for the layers of the model. If set to 0, histograms\n",
    "          won't be computed. Validation data (or split) must be specified for\n",
    "          histogram visualizations.\n",
    "        write_graph: whether to visualize the graph in TensorBoard. The log file\n",
    "          can become quite large when write_graph is set to True.\n",
    "        write_images: whether to write model weights to visualize as image in\n",
    "          TensorBoard.\n",
    "        update_freq: `'batch'` or `'epoch'` or integer. When using `'batch'`,\n",
    "          writes the losses and metrics to TensorBoard after each batch. The same\n",
    "          applies for `'epoch'`. If using an integer, let's say `1000`, the\n",
    "          callback will write the metrics and losses to TensorBoard every 1000\n",
    "          samples. Note that writing too frequently to TensorBoard can slow down\n",
    "          your training.\n",
    "        profile_batch: Profile the batch to sample compute characteristics. By\n",
    "          default, it will profile the second batch. Set profile_batch=0 to\n",
    "          disable profiling. Must run in TensorFlow eager mode.\n",
    "        embeddings_freq: frequency (in epochs) at which embedding layers will\n",
    "          be visualized. If set to 0, embeddings won't be visualized.\n",
    "       "
   ]
  },
  {
   "cell_type": "code",
   "execution_count": 14,
   "metadata": {},
   "outputs": [],
   "source": [
    "from datetime import datetime"
   ]
  },
  {
   "cell_type": "code",
   "execution_count": 15,
   "metadata": {},
   "outputs": [
    {
     "data": {
      "text/plain": [
       "'2021-02-02--1423'"
      ]
     },
     "execution_count": 15,
     "metadata": {},
     "output_type": "execute_result"
    }
   ],
   "source": [
    "datetime.now().strftime(\"%Y-%m-%d--%H%M\")"
   ]
  },
  {
   "cell_type": "code",
   "execution_count": 16,
   "metadata": {},
   "outputs": [],
   "source": [
    "# WINDOWS: Use \"logs\\\\fit\"\n",
    "# MACOS/LINUX: Use \"logs\\fit\"\n",
    "\n",
    "log_directory = 'logs\\fit'\n",
    "\n",
    "# OPTIONAL: ADD A TIMESTAMP FOR UNIQUE FOLDER\n",
    "# timestamp = datetime.now().strftime(\"%Y-%m-%d--%H%M\")\n",
    "# log_directory = log_directory + '\\\\' + timestamp\n",
    "\n",
    "\n",
    "board = TensorBoard(log_dir=log_directory,histogram_freq=1,\n",
    "    write_graph=True,\n",
    "    write_images=True,\n",
    "    update_freq='epoch',\n",
    "    profile_batch=2,\n",
    "    embeddings_freq=1)"
   ]
  },
  {
   "cell_type": "markdown",
   "metadata": {},
   "source": [
    "Now create the model layers:"
   ]
  },
  {
   "cell_type": "code",
   "execution_count": 17,
   "metadata": {},
   "outputs": [],
   "source": [
    "model = Sequential()\n",
    "model.add(Dense(units=30,activation='relu'))\n",
    "model.add(Dropout(0.5))\n",
    "model.add(Dense(units=15,activation='relu'))\n",
    "model.add(Dropout(0.5))\n",
    "model.add(Dense(units=1,activation='sigmoid'))\n",
    "model.compile(loss='binary_crossentropy', optimizer='adam')"
   ]
  },
  {
   "cell_type": "markdown",
   "metadata": {},
   "source": [
    "## Train the Model"
   ]
  },
  {
   "cell_type": "code",
   "execution_count": 18,
   "metadata": {},
   "outputs": [
    {
     "name": "stdout",
     "output_type": "stream",
     "text": [
      "Epoch 1/600\n",
      "14/14 [==============================] - 2s 80ms/step - loss: 0.7035 - val_loss: 0.6873\n",
      "Epoch 2/600\n",
      "14/14 [==============================] - 0s 4ms/step - loss: 0.6805 - val_loss: 0.6714\n",
      "Epoch 3/600\n",
      "14/14 [==============================] - 0s 4ms/step - loss: 0.6776 - val_loss: 0.6571\n",
      "Epoch 4/600\n",
      "14/14 [==============================] - 0s 5ms/step - loss: 0.6522 - val_loss: 0.6373\n",
      "Epoch 5/600\n",
      "14/14 [==============================] - 0s 8ms/step - loss: 0.6357 - val_loss: 0.6111\n",
      "Epoch 6/600\n",
      "14/14 [==============================] - 0s 6ms/step - loss: 0.6221 - val_loss: 0.5840\n",
      "Epoch 7/600\n",
      "14/14 [==============================] - 0s 6ms/step - loss: 0.5799 - val_loss: 0.5556\n",
      "Epoch 8/600\n",
      "14/14 [==============================] - 0s 4ms/step - loss: 0.5709 - val_loss: 0.5276\n",
      "Epoch 9/600\n",
      "14/14 [==============================] - 0s 4ms/step - loss: 0.5593 - val_loss: 0.4909\n",
      "Epoch 10/600\n",
      "14/14 [==============================] - 0s 6ms/step - loss: 0.5352 - val_loss: 0.4545\n",
      "Epoch 11/600\n",
      "14/14 [==============================] - 0s 6ms/step - loss: 0.5189 - val_loss: 0.4285\n",
      "Epoch 12/600\n",
      "14/14 [==============================] - 0s 4ms/step - loss: 0.4888 - val_loss: 0.4038\n",
      "Epoch 13/600\n",
      "14/14 [==============================] - 0s 4ms/step - loss: 0.4663 - val_loss: 0.3791\n",
      "Epoch 14/600\n",
      "14/14 [==============================] - 0s 4ms/step - loss: 0.4372 - val_loss: 0.3540\n",
      "Epoch 15/600\n",
      "14/14 [==============================] - 0s 4ms/step - loss: 0.4552 - val_loss: 0.3343\n",
      "Epoch 16/600\n",
      "14/14 [==============================] - 0s 6ms/step - loss: 0.4173 - val_loss: 0.3174\n",
      "Epoch 17/600\n",
      "14/14 [==============================] - 0s 4ms/step - loss: 0.4168 - val_loss: 0.2993\n",
      "Epoch 18/600\n",
      "14/14 [==============================] - 0s 4ms/step - loss: 0.3808 - val_loss: 0.2790\n",
      "Epoch 19/600\n",
      "14/14 [==============================] - 0s 6ms/step - loss: 0.3335 - val_loss: 0.2542\n",
      "Epoch 20/600\n",
      "14/14 [==============================] - 0s 5ms/step - loss: 0.3237 - val_loss: 0.2446\n",
      "Epoch 21/600\n",
      "14/14 [==============================] - 0s 6ms/step - loss: 0.3395 - val_loss: 0.2286\n",
      "Epoch 22/600\n",
      "14/14 [==============================] - 0s 5ms/step - loss: 0.3000 - val_loss: 0.2167\n",
      "Epoch 23/600\n",
      "14/14 [==============================] - 0s 4ms/step - loss: 0.3058 - val_loss: 0.2088\n",
      "Epoch 24/600\n",
      "14/14 [==============================] - 0s 4ms/step - loss: 0.3257 - val_loss: 0.2047\n",
      "Epoch 25/600\n",
      "14/14 [==============================] - 0s 5ms/step - loss: 0.2823 - val_loss: 0.2090\n",
      "Epoch 26/600\n",
      "14/14 [==============================] - 0s 6ms/step - loss: 0.3223 - val_loss: 0.1922\n",
      "Epoch 27/600\n",
      "14/14 [==============================] - 0s 5ms/step - loss: 0.2829 - val_loss: 0.1832\n",
      "Epoch 28/600\n",
      "14/14 [==============================] - 0s 6ms/step - loss: 0.2721 - val_loss: 0.1761\n",
      "Epoch 29/600\n",
      "14/14 [==============================] - 0s 7ms/step - loss: 0.2615 - val_loss: 0.1729\n",
      "Epoch 30/600\n",
      "14/14 [==============================] - 0s 5ms/step - loss: 0.2495 - val_loss: 0.1659\n",
      "Epoch 31/600\n",
      "14/14 [==============================] - 0s 5ms/step - loss: 0.2875 - val_loss: 0.1571\n",
      "Epoch 32/600\n",
      "14/14 [==============================] - 0s 5ms/step - loss: 0.2127 - val_loss: 0.1521\n",
      "Epoch 33/600\n",
      "14/14 [==============================] - 0s 5ms/step - loss: 0.2356 - val_loss: 0.1559\n",
      "Epoch 34/600\n",
      "14/14 [==============================] - 0s 5ms/step - loss: 0.2281 - val_loss: 0.1617\n",
      "Epoch 35/600\n",
      "14/14 [==============================] - 0s 4ms/step - loss: 0.2232 - val_loss: 0.1427\n",
      "Epoch 36/600\n",
      "14/14 [==============================] - 0s 4ms/step - loss: 0.2188 - val_loss: 0.1391\n",
      "Epoch 37/600\n",
      "14/14 [==============================] - 0s 4ms/step - loss: 0.2588 - val_loss: 0.1516\n",
      "Epoch 38/600\n",
      "14/14 [==============================] - 0s 4ms/step - loss: 0.2613 - val_loss: 0.1397\n",
      "Epoch 39/600\n",
      "14/14 [==============================] - 0s 3ms/step - loss: 0.2478 - val_loss: 0.1409\n",
      "Epoch 40/600\n",
      "14/14 [==============================] - 0s 3ms/step - loss: 0.2186 - val_loss: 0.1396\n",
      "Epoch 41/600\n",
      "14/14 [==============================] - 0s 5ms/step - loss: 0.2136 - val_loss: 0.1285\n",
      "Epoch 42/600\n",
      "14/14 [==============================] - 0s 5ms/step - loss: 0.2178 - val_loss: 0.1366\n",
      "Epoch 43/600\n",
      "14/14 [==============================] - 0s 3ms/step - loss: 0.2017 - val_loss: 0.1278\n",
      "Epoch 44/600\n",
      "14/14 [==============================] - 0s 4ms/step - loss: 0.1906 - val_loss: 0.1205\n",
      "Epoch 45/600\n",
      "14/14 [==============================] - 0s 5ms/step - loss: 0.2153 - val_loss: 0.1221\n",
      "Epoch 46/600\n",
      "14/14 [==============================] - 0s 5ms/step - loss: 0.1944 - val_loss: 0.1236\n",
      "Epoch 47/600\n",
      "14/14 [==============================] - 0s 4ms/step - loss: 0.2196 - val_loss: 0.1145\n",
      "Epoch 48/600\n",
      "14/14 [==============================] - 0s 4ms/step - loss: 0.1803 - val_loss: 0.1183\n",
      "Epoch 49/600\n",
      "14/14 [==============================] - 0s 4ms/step - loss: 0.1829 - val_loss: 0.1116\n",
      "Epoch 50/600\n",
      "14/14 [==============================] - 0s 4ms/step - loss: 0.1706 - val_loss: 0.1062\n",
      "Epoch 51/600\n",
      "14/14 [==============================] - 0s 4ms/step - loss: 0.1860 - val_loss: 0.1148\n",
      "Epoch 52/600\n",
      "14/14 [==============================] - 0s 4ms/step - loss: 0.1571 - val_loss: 0.1079\n",
      "Epoch 53/600\n",
      "14/14 [==============================] - 0s 8ms/step - loss: 0.1787 - val_loss: 0.1108\n",
      "Epoch 54/600\n",
      "14/14 [==============================] - 0s 4ms/step - loss: 0.2344 - val_loss: 0.1123\n",
      "Epoch 55/600\n",
      "14/14 [==============================] - 0s 4ms/step - loss: 0.1557 - val_loss: 0.1046\n",
      "Epoch 56/600\n",
      "14/14 [==============================] - 0s 4ms/step - loss: 0.1815 - val_loss: 0.1076\n",
      "Epoch 57/600\n",
      "14/14 [==============================] - 0s 4ms/step - loss: 0.1529 - val_loss: 0.1085\n",
      "Epoch 58/600\n",
      "14/14 [==============================] - 0s 4ms/step - loss: 0.2004 - val_loss: 0.1032\n",
      "Epoch 59/600\n",
      "14/14 [==============================] - 0s 3ms/step - loss: 0.1693 - val_loss: 0.0996\n",
      "Epoch 60/600\n",
      "14/14 [==============================] - 0s 3ms/step - loss: 0.1282 - val_loss: 0.1026\n",
      "Epoch 61/600\n",
      "14/14 [==============================] - 0s 4ms/step - loss: 0.1745 - val_loss: 0.1096\n",
      "Epoch 62/600\n",
      "14/14 [==============================] - 0s 3ms/step - loss: 0.1322 - val_loss: 0.1062\n",
      "Epoch 63/600\n",
      "14/14 [==============================] - 0s 4ms/step - loss: 0.1286 - val_loss: 0.0997\n",
      "Epoch 64/600\n",
      "14/14 [==============================] - 0s 4ms/step - loss: 0.1371 - val_loss: 0.0946\n",
      "Epoch 65/600\n",
      "14/14 [==============================] - 0s 5ms/step - loss: 0.1258 - val_loss: 0.0997\n",
      "Epoch 66/600\n",
      "14/14 [==============================] - 0s 5ms/step - loss: 0.1492 - val_loss: 0.0917\n",
      "Epoch 67/600\n",
      "14/14 [==============================] - 0s 6ms/step - loss: 0.1456 - val_loss: 0.0954\n",
      "Epoch 68/600\n",
      "14/14 [==============================] - 0s 7ms/step - loss: 0.1520 - val_loss: 0.1040\n",
      "Epoch 69/600\n",
      "14/14 [==============================] - 0s 4ms/step - loss: 0.1175 - val_loss: 0.0930\n",
      "Epoch 70/600\n",
      "14/14 [==============================] - 0s 4ms/step - loss: 0.1435 - val_loss: 0.0959\n",
      "Epoch 71/600\n",
      "14/14 [==============================] - 0s 4ms/step - loss: 0.1241 - val_loss: 0.1041\n",
      "Epoch 72/600\n",
      "14/14 [==============================] - 0s 4ms/step - loss: 0.1697 - val_loss: 0.0943\n",
      "Epoch 73/600\n",
      "14/14 [==============================] - 0s 5ms/step - loss: 0.1441 - val_loss: 0.0984\n",
      "Epoch 74/600\n",
      "14/14 [==============================] - 0s 5ms/step - loss: 0.1196 - val_loss: 0.1032\n",
      "Epoch 75/600\n",
      "14/14 [==============================] - 0s 5ms/step - loss: 0.1298 - val_loss: 0.0920\n",
      "Epoch 76/600\n",
      "14/14 [==============================] - 0s 5ms/step - loss: 0.1393 - val_loss: 0.0956\n",
      "Epoch 77/600\n",
      "14/14 [==============================] - 0s 7ms/step - loss: 0.1445 - val_loss: 0.0924\n",
      "Epoch 78/600\n",
      "14/14 [==============================] - 0s 4ms/step - loss: 0.1561 - val_loss: 0.0981\n",
      "Epoch 79/600\n",
      "14/14 [==============================] - 0s 4ms/step - loss: 0.1127 - val_loss: 0.0956\n",
      "Epoch 80/600\n",
      "14/14 [==============================] - 0s 5ms/step - loss: 0.1680 - val_loss: 0.0924\n",
      "Epoch 81/600\n",
      "14/14 [==============================] - 0s 5ms/step - loss: 0.1217 - val_loss: 0.0916\n",
      "Epoch 82/600\n",
      "14/14 [==============================] - 0s 4ms/step - loss: 0.1247 - val_loss: 0.0891\n",
      "Epoch 83/600\n"
     ]
    },
    {
     "name": "stdout",
     "output_type": "stream",
     "text": [
      "14/14 [==============================] - 0s 4ms/step - loss: 0.1211 - val_loss: 0.0990\n",
      "Epoch 84/600\n",
      "14/14 [==============================] - 0s 4ms/step - loss: 0.1296 - val_loss: 0.0942\n",
      "Epoch 85/600\n",
      "14/14 [==============================] - 0s 4ms/step - loss: 0.1187 - val_loss: 0.0940\n",
      "Epoch 86/600\n",
      "14/14 [==============================] - 0s 4ms/step - loss: 0.1145 - val_loss: 0.0905\n",
      "Epoch 87/600\n",
      "14/14 [==============================] - 0s 4ms/step - loss: 0.1175 - val_loss: 0.0945\n",
      "Epoch 88/600\n",
      "14/14 [==============================] - 0s 4ms/step - loss: 0.1071 - val_loss: 0.1164\n",
      "Epoch 89/600\n",
      "14/14 [==============================] - 0s 4ms/step - loss: 0.1484 - val_loss: 0.0989\n",
      "Epoch 90/600\n",
      "14/14 [==============================] - 0s 5ms/step - loss: 0.1233 - val_loss: 0.0864\n",
      "Epoch 91/600\n",
      "14/14 [==============================] - 0s 7ms/step - loss: 0.1112 - val_loss: 0.0957\n",
      "Epoch 92/600\n",
      "14/14 [==============================] - 0s 6ms/step - loss: 0.1036 - val_loss: 0.0936\n",
      "Epoch 93/600\n",
      "14/14 [==============================] - 0s 4ms/step - loss: 0.0975 - val_loss: 0.0911\n",
      "Epoch 94/600\n",
      "14/14 [==============================] - 0s 4ms/step - loss: 0.1143 - val_loss: 0.0983\n",
      "Epoch 95/600\n",
      "14/14 [==============================] - 0s 4ms/step - loss: 0.0900 - val_loss: 0.0967\n",
      "Epoch 96/600\n",
      "14/14 [==============================] - 0s 4ms/step - loss: 0.1477 - val_loss: 0.0885\n",
      "Epoch 97/600\n",
      "14/14 [==============================] - 0s 4ms/step - loss: 0.1356 - val_loss: 0.0957\n",
      "Epoch 98/600\n",
      "14/14 [==============================] - 0s 4ms/step - loss: 0.0870 - val_loss: 0.1001\n",
      "Epoch 99/600\n",
      "14/14 [==============================] - 0s 4ms/step - loss: 0.1122 - val_loss: 0.0957\n",
      "Epoch 100/600\n",
      "14/14 [==============================] - 0s 4ms/step - loss: 0.1228 - val_loss: 0.0901\n",
      "Epoch 101/600\n",
      "14/14 [==============================] - 0s 4ms/step - loss: 0.1196 - val_loss: 0.1114\n",
      "Epoch 102/600\n",
      "14/14 [==============================] - 0s 4ms/step - loss: 0.0905 - val_loss: 0.0945\n",
      "Epoch 103/600\n",
      "14/14 [==============================] - 0s 4ms/step - loss: 0.1099 - val_loss: 0.0896\n",
      "Epoch 104/600\n",
      "14/14 [==============================] - 0s 4ms/step - loss: 0.1051 - val_loss: 0.0868\n",
      "Epoch 105/600\n",
      "14/14 [==============================] - 0s 3ms/step - loss: 0.0885 - val_loss: 0.1167\n",
      "Epoch 106/600\n",
      "14/14 [==============================] - 0s 3ms/step - loss: 0.0919 - val_loss: 0.1138\n",
      "Epoch 107/600\n",
      "14/14 [==============================] - 0s 4ms/step - loss: 0.1191 - val_loss: 0.0907\n",
      "Epoch 108/600\n",
      "14/14 [==============================] - 0s 3ms/step - loss: 0.1509 - val_loss: 0.0934\n",
      "Epoch 109/600\n",
      "14/14 [==============================] - 0s 3ms/step - loss: 0.1174 - val_loss: 0.0914\n",
      "Epoch 110/600\n",
      "14/14 [==============================] - 0s 4ms/step - loss: 0.1073 - val_loss: 0.1012\n",
      "Epoch 111/600\n",
      "14/14 [==============================] - 0s 3ms/step - loss: 0.1325 - val_loss: 0.0891\n",
      "Epoch 112/600\n",
      "14/14 [==============================] - 0s 3ms/step - loss: 0.0843 - val_loss: 0.0954\n",
      "Epoch 113/600\n",
      "14/14 [==============================] - 0s 4ms/step - loss: 0.1279 - val_loss: 0.0947\n",
      "Epoch 114/600\n",
      "14/14 [==============================] - 0s 4ms/step - loss: 0.0716 - val_loss: 0.0845\n",
      "Epoch 115/600\n",
      "14/14 [==============================] - 0s 3ms/step - loss: 0.1014 - val_loss: 0.0897\n",
      "Epoch 116/600\n",
      "14/14 [==============================] - 0s 4ms/step - loss: 0.0866 - val_loss: 0.0939\n",
      "Epoch 117/600\n",
      "14/14 [==============================] - 0s 4ms/step - loss: 0.1316 - val_loss: 0.0892\n",
      "Epoch 118/600\n",
      "14/14 [==============================] - 0s 4ms/step - loss: 0.0809 - val_loss: 0.0910\n",
      "Epoch 119/600\n",
      "14/14 [==============================] - 0s 4ms/step - loss: 0.0812 - val_loss: 0.0953\n",
      "Epoch 120/600\n",
      "14/14 [==============================] - 0s 4ms/step - loss: 0.0944 - val_loss: 0.0922\n",
      "Epoch 121/600\n",
      "14/14 [==============================] - 0s 5ms/step - loss: 0.1083 - val_loss: 0.1231\n",
      "Epoch 122/600\n",
      "14/14 [==============================] - 0s 4ms/step - loss: 0.1336 - val_loss: 0.0938\n",
      "Epoch 123/600\n",
      "14/14 [==============================] - 0s 4ms/step - loss: 0.0895 - val_loss: 0.0895\n",
      "Epoch 124/600\n",
      "14/14 [==============================] - 0s 4ms/step - loss: 0.0933 - val_loss: 0.0894\n",
      "Epoch 125/600\n",
      "14/14 [==============================] - 0s 5ms/step - loss: 0.1153 - val_loss: 0.0941\n",
      "Epoch 126/600\n",
      "14/14 [==============================] - 0s 4ms/step - loss: 0.0890 - val_loss: 0.0891\n",
      "Epoch 127/600\n",
      "14/14 [==============================] - 0s 4ms/step - loss: 0.0616 - val_loss: 0.0941\n",
      "Epoch 128/600\n",
      "14/14 [==============================] - 0s 4ms/step - loss: 0.0974 - val_loss: 0.1000\n",
      "Epoch 129/600\n",
      "14/14 [==============================] - 0s 4ms/step - loss: 0.0845 - val_loss: 0.0899\n",
      "Epoch 130/600\n",
      "14/14 [==============================] - 0s 4ms/step - loss: 0.1180 - val_loss: 0.0918\n",
      "Epoch 131/600\n",
      "14/14 [==============================] - 0s 4ms/step - loss: 0.0946 - val_loss: 0.1093\n",
      "Epoch 132/600\n",
      "14/14 [==============================] - 0s 5ms/step - loss: 0.0967 - val_loss: 0.0925\n",
      "Epoch 133/600\n",
      "14/14 [==============================] - 0s 4ms/step - loss: 0.0876 - val_loss: 0.0961\n",
      "Epoch 134/600\n",
      "14/14 [==============================] - 0s 4ms/step - loss: 0.0888 - val_loss: 0.0998\n",
      "Epoch 135/600\n",
      "14/14 [==============================] - 0s 4ms/step - loss: 0.1101 - val_loss: 0.0981\n",
      "Epoch 136/600\n",
      "14/14 [==============================] - 0s 4ms/step - loss: 0.0675 - val_loss: 0.0892\n",
      "Epoch 137/600\n",
      "14/14 [==============================] - 0s 4ms/step - loss: 0.1197 - val_loss: 0.0960\n",
      "Epoch 138/600\n",
      "14/14 [==============================] - 0s 5ms/step - loss: 0.0762 - val_loss: 0.0923\n",
      "Epoch 139/600\n",
      "14/14 [==============================] - 0s 4ms/step - loss: 0.0680 - val_loss: 0.0887\n",
      "Epoch 00139: early stopping\n"
     ]
    },
    {
     "data": {
      "text/plain": [
       "<tensorflow.python.keras.callbacks.History at 0x7facc47b3790>"
      ]
     },
     "execution_count": 18,
     "metadata": {},
     "output_type": "execute_result"
    }
   ],
   "source": [
    "model.fit(x=X_train, \n",
    "          y=y_train, \n",
    "          epochs=600,\n",
    "          validation_data=(X_test, y_test), verbose=1,\n",
    "          callbacks=[early_stop,board]\n",
    "          )"
   ]
  },
  {
   "cell_type": "markdown",
   "metadata": {},
   "source": [
    "# Running Tensorboard\n"
   ]
  },
  {
   "cell_type": "markdown",
   "metadata": {},
   "source": [
    "## Running through the Command Line\n",
    "\n",
    "**Watch video to see how to run Tensorboard through a command line call.**"
   ]
  },
  {
   "cell_type": "markdown",
   "metadata": {},
   "source": [
    "Tensorboard will run locally in your browser at [http://localhost:6006/](http://localhost:6006/)\n"
   ]
  },
  {
   "cell_type": "code",
   "execution_count": 19,
   "metadata": {},
   "outputs": [
    {
     "name": "stdout",
     "output_type": "stream",
     "text": [
      "logs\f",
      "it\n"
     ]
    }
   ],
   "source": [
    "print(log_directory)"
   ]
  },
  {
   "cell_type": "code",
   "execution_count": 20,
   "metadata": {},
   "outputs": [
    {
     "data": {
      "text/plain": [
       "'/Users/ethancooley/Programming/Refactored_Py_DS_ML_Bootcamp-master/22-Deep Learning/TensorFlow_FILES/ANNs'"
      ]
     },
     "execution_count": 20,
     "metadata": {},
     "output_type": "execute_result"
    }
   ],
   "source": [
    "pwd"
   ]
  },
  {
   "cell_type": "markdown",
   "metadata": {},
   "source": [
    "### Use cd at your command line to change directory to the file path reported back by pwd or your current .py file location.\n",
    "### Then run this code at your command line or terminal"
   ]
  },
  {
   "cell_type": "code",
   "execution_count": null,
   "metadata": {},
   "outputs": [],
   "source": [
    "tensorboard --logdir logs\\fit "
   ]
  }
 ],
 "metadata": {
  "kernelspec": {
   "display_name": "Python 3",
   "language": "python",
   "name": "python3"
  },
  "language_info": {
   "codemirror_mode": {
    "name": "ipython",
    "version": 3
   },
   "file_extension": ".py",
   "mimetype": "text/x-python",
   "name": "python",
   "nbconvert_exporter": "python",
   "pygments_lexer": "ipython3",
   "version": "3.8.5"
  }
 },
 "nbformat": 4,
 "nbformat_minor": 2
}
